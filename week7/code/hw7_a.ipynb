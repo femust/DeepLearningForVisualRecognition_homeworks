{
 "cells": [
  {
   "cell_type": "code",
   "execution_count": 14,
   "metadata": {},
   "outputs": [],
   "source": [
    "import pickle\n",
    "from pathlib import Path\n",
    "from time import time\n",
    "from collections import namedtuple\n",
    "from itertools import repeat\n",
    "from functools import partial\n",
    "\n",
    "import torch\n",
    "import torch.nn as nn\n",
    "import torch.nn.functional as F\n",
    "from torch.utils.data import DataLoader\n",
    "from torchvision.datasets import CIFAR10\n",
    "import torchvision.transforms as tf\n",
    "\n",
    "#from torchsummary import summary\n",
    "\n",
    "from tqdm.notebook import tqdm\n",
    "import matplotlib.pyplot as plt\n",
    "import numpy as np\n",
    "import PIL.Image\n",
    "\n",
    "device = torch.device(\"cuda:0\" if torch.cuda.is_available() else \"cpu\")\n",
    "PATH = \"../dataset/cifar-10-batches-py\""
   ]
  },
  {
   "cell_type": "code",
   "execution_count": 31,
   "metadata": {},
   "outputs": [],
   "source": [
    "class CUDADataLoader:\n",
    "    def __init__(self, dataloader):\n",
    "        self.dataloader = dataloader\n",
    "        \n",
    "    def __iter__(self):\n",
    "        for images, labels in self.dataloader:\n",
    "            yield [images.to(device), labels.to(device)]\n",
    "            \n",
    "    def __len__(self):\n",
    "        return len(self.dataloader)\n",
    "    \n",
    "    @property\n",
    "    def dataset(self):\n",
    "        return self.dataloader.dataset\n",
    "\n",
    "class CIFAR10Dataset:\n",
    "    def __init__(self, dataset='train', path=PATH):\n",
    "        path = Path(path)\n",
    "        if dataset == 'train':\n",
    "            batches = [self.load_batch(p) for p in path.glob('data_batch_*')]\n",
    "            self.images = torch.cat([b for b, _ in batches])\n",
    "            self.labels = torch.cat([b for _, b in batches])\n",
    "        elif dataset == 'test':\n",
    "            self.images, self.labels = self.load_batch(path / 'test_batch')\n",
    "            \n",
    "        # normalize\n",
    "        self.images = self.images.float()\n",
    "        self.labels = self.labels.long()\n",
    "        \n",
    "        std, mean = torch.std_mean(self.images, dim=0)\n",
    "        self.images = (self.images - mean) / std\n",
    "        \n",
    "        assert len(self.images) == len(self.labels)\n",
    "    \n",
    "    def load_batch(self, path):\n",
    "        with open(path, 'rb') as file:\n",
    "            data_dict = pickle.load(file, encoding='bytes')\n",
    "        images = data_dict[b'data'].reshape((-1, 32, 32, 3), order='F').swapaxes(1,3)\n",
    "        images = torch.from_numpy(images)\n",
    "        labels = torch.Tensor(data_dict[b'labels'])\n",
    "        return images, labels\n",
    "    \n",
    "    def __len__(self):\n",
    "        return len(self.images)\n",
    "    \n",
    "    def __getitem__(self, index):\n",
    "        return self.images[index], self.labels[index]"
   ]
  },
  {
   "cell_type": "code",
   "execution_count": 16,
   "metadata": {},
   "outputs": [],
   "source": [
    "class TrainProgressBar:\n",
    "    def __init__(self):\n",
    "        self._runs_bar = self._epoch_bar = self._batch_bar = None\n",
    "        self._initialized = False\n",
    "        \n",
    "    def _initialize_bars(self, init_runs):\n",
    "        if not self._initialized:\n",
    "            if init_runs:\n",
    "                self._runs_bar = tqdm(desc=\"runs\")\n",
    "            self._epoch_bar = tqdm(desc=\"epochs\")\n",
    "            self._batch_bar = tqdm(desc=\"batches\")\n",
    "            self._initialized = True\n",
    "        \n",
    "    @staticmethod\n",
    "    def _get_len(it):\n",
    "        try:\n",
    "            return len(it)\n",
    "        except TypeError:\n",
    "            return -1\n",
    "        \n",
    "    @staticmethod\n",
    "    def _decorate_iterator(it, pbar):\n",
    "        pbar.reset(total=TrainProgressBar._get_len(it))\n",
    "        \n",
    "        for item in it:\n",
    "            yield item\n",
    "            pbar.update(1)\n",
    "            \n",
    "    def runs(self, iterator):\n",
    "        length = TrainProgressBar._get_len(iterator)\n",
    "        self._initialize_bars(init_runs=True)\n",
    "        yield from TrainProgressBar._decorate_iterator(iterator, self._runs_bar)\n",
    "        \n",
    "    def epochs(self, iterator):\n",
    "        self._initialize_bars(init_runs=False)\n",
    "        yield from TrainProgressBar._decorate_iterator(iterator, self._epoch_bar)\n",
    "        \n",
    "    def batches(self, iterator):\n",
    "        yield from TrainProgressBar._decorate_iterator(iterator, self._batch_bar)\n",
    "        \n",
    "    def write(self, text):\n",
    "        self._batch_bar.write(text)\n",
    "        \n",
    "    def close(self):\n",
    "        if self._runs_bar is not None:\n",
    "            self._runs_bar.close()\n",
    "        self._epoch_bar.close()\n",
    "        self._batch_bar.close()\n",
    "        \n",
    "    def __enter__(self):\n",
    "        return self\n",
    "    \n",
    "    def __exit__(self, *exc):\n",
    "        self.close()"
   ]
  },
  {
   "cell_type": "code",
   "execution_count": 41,
   "metadata": {},
   "outputs": [],
   "source": [
    "def predictions_to_hits(predictions, labels):\n",
    "    return predictions.argmax(dim=1).eq(labels).count_nonzero()\n",
    "\n",
    "def train(model, optimizer, train_dataloader, test_dataloader=None,\n",
    "          loss_fn=None, reg_fn=None, num_epochs=25, pbar=None):\n",
    "    \n",
    "    # init outputs and progressbar\n",
    "    \n",
    "    losses = torch.zeros(num_epochs)\n",
    "    train_accuracies = torch.zeros(num_epochs)\n",
    "    test_accuracies = torch.zeros(num_epochs)\n",
    "    \n",
    "    for epoch in pbar.epochs(range(num_epochs)):\n",
    "        \n",
    "        # init variables\n",
    "        \n",
    "        epoch_losses = torch.zeros(len(train_dataloader)).to(device)\n",
    "        hits = torch.zeros(1).to(device)\n",
    "        total = torch.zeros(1).to(device)\n",
    "        \n",
    "        # train model\n",
    "        \n",
    "        model.train(True)\n",
    "        \n",
    "        for i, (images, labels) in enumerate(pbar.batches(train_dataloader)):\n",
    "            optimizer.zero_grad()\n",
    "            predictions = model(images)\n",
    "            loss = loss_fn(predictions, labels)\n",
    "            \n",
    "            if(reg_fn):\n",
    "                loss += reg_fn()\n",
    "            \n",
    "            loss.backward()\n",
    "            optimizer.step()\n",
    "            \n",
    "            epoch_losses[i] = loss\n",
    "            hits += predictions_to_hits(predictions, labels)\n",
    "            total += len(images)\n",
    "        \n",
    "        losses[epoch] = torch.mean(epoch_losses)\n",
    "        train_accuracies[epoch] = hits / total\n",
    "        \n",
    "        # get test accuracy\n",
    "        \n",
    "        model.train(False)\n",
    "        \n",
    "        if test_dataloader is not None:\n",
    "            hits[:] = total[:] = 0\n",
    "            for images, labels in pbar.batches(test_dataloader):\n",
    "                predictions = model(images)\n",
    "                hits += predictions_to_hits(predictions, labels)\n",
    "                total += len(images)\n",
    "            \n",
    "        test_accuracies[epoch] = hits / total\n",
    "        \n",
    "        # update pbar\n",
    "        \n",
    "        pbar.write(f\"[{epoch+1:>2}/{num_epochs}] \"\n",
    "                   f\"train_accuracy: {train_accuracies[epoch]:.4f}, \"\n",
    "                   f\"test_accuracy: {test_accuracies[epoch]:.4f}, \"\n",
    "                   f\"loss: {losses[epoch]:.4f}\")\n",
    "    \n",
    "    return tuple(a.detach().numpy() for a in (losses, train_accuracies, test_accuracies))"
   ]
  },
  {
   "cell_type": "code",
   "execution_count": 18,
   "metadata": {},
   "outputs": [],
   "source": [
    "Results = namedtuple(\"Results\", \"losses train_accuracies test_accuracies\")\n",
    "\n",
    "def plot_results(names, results, title=\"\"):\n",
    "    _, axs = plt.subplots(1,2,figsize=(14,7))\n",
    "    \n",
    "    axs[0].set_xlabel('epochs')\n",
    "    axs[0].set_ylabel('loss')\n",
    "    \n",
    "    axs[1].set_xlabel('epochs')\n",
    "    axs[1].set_ylabel('accuracy')\n",
    "    \n",
    "    for name, result in zip(names, results):\n",
    "        a, *_ = axs[0].plot(result.losses, label=name)\n",
    "        axs[1].plot(result.test_accuracies, label=name+\" (test)\", color=a.get_color())\n",
    "        axs[1].plot(result.train_accuracies, label=name+\" (train)\", color=a.get_color(), linestyle='dotted')\n",
    "\n",
    "    axs[0].legend()\n",
    "    axs[1].legend()\n",
    "    \n",
    "    plt.suptitle(title)\n",
    "    plt.tight_layout()\n",
    "    plt.show()"
   ]
  },
  {
   "cell_type": "code",
   "execution_count": 32,
   "metadata": {},
   "outputs": [],
   "source": [
    "results = dict()\n",
    "train_dataloader = CUDADataLoader(DataLoader(CIFAR10Dataset('train', PATH),\n",
    "                                  batch_size=64, shuffle=True, pin_memory=False))\n",
    "test_dataloader = CUDADataLoader(DataLoader(CIFAR10Dataset('test', PATH),\n",
    "                                  batch_size=64, shuffle=False, pin_memory=False))"
   ]
  },
  {
   "cell_type": "markdown",
   "metadata": {},
   "source": [
    "# (a) A small residual network"
   ]
  },
  {
   "cell_type": "code",
   "execution_count": 44,
   "metadata": {},
   "outputs": [],
   "source": [
    "class ResBlock(nn.Module):\n",
    "    def __init__(self, feature_in, feature_out, stride=1):\n",
    "        super(ResBlock, self).__init__()\n",
    "        self.block = nn.Sequential(\n",
    "            nn.Conv2d(feature_in, feature_out, kernel_size=3, stride=stride, padding=1, bias=False),\n",
    "            nn.BatchNorm2d(feature_out),\n",
    "            \n",
    "            nn.ReLU(),\n",
    "            \n",
    "            nn.Conv2d(feature_out, feature_out, kernel_size=3, stride=1, padding=1, bias=False),\n",
    "            nn.BatchNorm2d(feature_out)\n",
    "        )\n",
    "        self.shortcut = nn.Sequential()\n",
    "        if stride != 1 or feature_in != feature_out:\n",
    "            self.shortcut = nn.Sequential(\n",
    "                nn.Conv2d(feature_in, feature_out, kernel_size=1, stride=stride, bias=False),\n",
    "                nn.BatchNorm2d(feature_out)\n",
    "            )\n",
    "    \n",
    "    def forward(self, x):\n",
    "        output = self.block(x)\n",
    "        output += self.shortcut(x)\n",
    "        output = F.relu(output)\n",
    "        return output"
   ]
  },
  {
   "cell_type": "code",
   "execution_count": 67,
   "metadata": {},
   "outputs": [],
   "source": [
    "bn_factory = partial(nn.BatchNorm1d, affine=False, momentum=0.1)\n",
    "class ResNet(nn.Module):\n",
    "    def __init__(self, in_channels, num_classes, num_resblocks):\n",
    "        super(ResNet, self).__init__()\n",
    "        \n",
    "        num_blocks = len(num_resblocks)\n",
    "        \n",
    "        layers = []\n",
    "        for i in range(num_blocks-1):\n",
    "            layers.append(ResBlock(num_resblocks[i], num_resblocks[i]))\n",
    "            layers.append(nn.Conv2d(num_resblocks[i], num_resblocks[i+1], kernel_size=3, padding=1, bias=False))\n",
    "            nn.BatchNorm2d(num_resblocks[i+1])\n",
    "            layers.append(nn.ReLU())\n",
    "        \n",
    "        layers.append(ResBlock(num_resblocks[num_blocks-1], num_resblocks[num_blocks-1]))\n",
    "        layers.append(nn.AvgPool2d((2,2)))\n",
    "        # dense\n",
    "        layers.append(nn.Flatten())\n",
    "        layers.append(nn.Linear(8192,10))\n",
    "        \n",
    "        self.blocks = nn.Sequential(\n",
    "            nn.Conv2d(3, 32, kernel_size=7, stride=2, padding=3, bias=False),\n",
    "            nn.BatchNorm2d(32),\n",
    "            nn.ReLU(),  \n",
    "            *layers\n",
    "        ).to(device)   \n",
    "    \n",
    "\n",
    "    def forward(self, x):\n",
    "        x = self.blocks(x)\n",
    "        return x"
   ]
  },
  {
   "cell_type": "markdown",
   "metadata": {},
   "source": [
    "### base model"
   ]
  },
  {
   "cell_type": "code",
   "execution_count": 27,
   "metadata": {},
   "outputs": [],
   "source": [
    "def make_cnn_model(activation_factory, use_batch_normalization=False):\n",
    "    bn_factory = partial(nn.BatchNorm2d) if use_batch_normalization else nn.Identity\n",
    "    \n",
    "    return nn.Sequential(\n",
    "        ### first block ###\n",
    "        \n",
    "        nn.Conv2d(3,32,(3,3)),\n",
    "        bn_factory(32),\n",
    "        activation_factory(),\n",
    "        \n",
    "        nn.Conv2d(32,32,(3,3)),\n",
    "        bn_factory(32),\n",
    "        activation_factory(),\n",
    "        \n",
    "        nn.MaxPool2d((2,2)),\n",
    "        \n",
    "        ### second block ###\n",
    "        \n",
    "        nn.Conv2d(32,64,(3,3)),\n",
    "        bn_factory(64),\n",
    "        activation_factory(),\n",
    "        \n",
    "        nn.Conv2d(64,64,(3,3)),\n",
    "        bn_factory(64),\n",
    "        activation_factory(),\n",
    "        \n",
    "        nn.MaxPool2d((2,2)),\n",
    "        \n",
    "        ### dense layer ###\n",
    "        \n",
    "        nn.Flatten(),\n",
    "        nn.Linear(1600,10)\n",
    "    ).to(device)\n"
   ]
  },
  {
   "cell_type": "code",
   "execution_count": 33,
   "metadata": {},
   "outputs": [
    {
     "data": {
      "application/vnd.jupyter.widget-view+json": {
       "model_id": "38a9f05abbcd4624a1b0d81f840ddbfe",
       "version_major": 2,
       "version_minor": 0
      },
      "text/plain": [
       "HBox(children=(HTML(value='epochs'), FloatProgress(value=1.0, bar_style='info', layout=Layout(width='20px'), m…"
      ]
     },
     "metadata": {},
     "output_type": "display_data"
    },
    {
     "data": {
      "application/vnd.jupyter.widget-view+json": {
       "model_id": "ca34c919a4794f8287be7e501fe95523",
       "version_major": 2,
       "version_minor": 0
      },
      "text/plain": [
       "HBox(children=(HTML(value='batches'), FloatProgress(value=1.0, bar_style='info', layout=Layout(width='20px'), …"
      ]
     },
     "metadata": {},
     "output_type": "display_data"
    },
    {
     "name": "stdout",
     "output_type": "stream",
     "text": [
      "[ 1/25] train_accuracy: 0.4301, test_accuracy: 0.5180, loss: 1.5702\n",
      "[ 2/25] train_accuracy: 0.5651, test_accuracy: 0.6044, loss: 1.2379\n",
      "[ 3/25] train_accuracy: 0.6311, test_accuracy: 0.6511, loss: 1.0672\n",
      "[ 4/25] train_accuracy: 0.6716, test_accuracy: 0.6751, loss: 0.9430\n",
      "[ 5/25] train_accuracy: 0.7036, test_accuracy: 0.6697, loss: 0.8588\n",
      "[ 6/25] train_accuracy: 0.7277, test_accuracy: 0.7005, loss: 0.7905\n",
      "[ 7/25] train_accuracy: 0.7487, test_accuracy: 0.7206, loss: 0.7318\n",
      "[ 8/25] train_accuracy: 0.7586, test_accuracy: 0.7381, loss: 0.6920\n",
      "[ 9/25] train_accuracy: 0.7771, test_accuracy: 0.7448, loss: 0.6513\n",
      "[10/25] train_accuracy: 0.7877, test_accuracy: 0.7368, loss: 0.6214\n",
      "[11/25] train_accuracy: 0.7994, test_accuracy: 0.7428, loss: 0.5826\n",
      "[12/25] train_accuracy: 0.8076, test_accuracy: 0.7469, loss: 0.5574\n",
      "[13/25] train_accuracy: 0.8170, test_accuracy: 0.7370, loss: 0.5282\n",
      "[14/25] train_accuracy: 0.8263, test_accuracy: 0.7532, loss: 0.5025\n",
      "[15/25] train_accuracy: 0.8331, test_accuracy: 0.7584, loss: 0.4792\n",
      "[16/25] train_accuracy: 0.8414, test_accuracy: 0.7479, loss: 0.4535\n",
      "[17/25] train_accuracy: 0.8497, test_accuracy: 0.7504, loss: 0.4294\n",
      "[18/25] train_accuracy: 0.8599, test_accuracy: 0.7611, loss: 0.4067\n",
      "[19/25] train_accuracy: 0.8655, test_accuracy: 0.7514, loss: 0.3833\n",
      "[20/25] train_accuracy: 0.8747, test_accuracy: 0.7512, loss: 0.3582\n",
      "[21/25] train_accuracy: 0.8808, test_accuracy: 0.7529, loss: 0.3399\n",
      "[22/25] train_accuracy: 0.8871, test_accuracy: 0.7443, loss: 0.3225\n",
      "[23/25] train_accuracy: 0.8953, test_accuracy: 0.7433, loss: 0.3006\n",
      "[24/25] train_accuracy: 0.8990, test_accuracy: 0.7475, loss: 0.2833\n",
      "[25/25] train_accuracy: 0.9099, test_accuracy: 0.7430, loss: 0.2589\n",
      "\n",
      "\n"
     ]
    }
   ],
   "source": [
    "model = make_cnn_model(activation_factory=nn.ReLU)\n",
    "optimizer = torch.optim.Adam(model.parameters(), lr=0.0005, betas=(0.9, 0.95), weight_decay=0)\n",
    "\n",
    "with TrainProgressBar() as pbar:\n",
    "    results[\"cnn\"] = Results(*train(model, optimizer, train_dataloader, test_dataloader,\n",
    "                                            loss_fn=F.cross_entropy, reg_fn=None, num_epochs=25, pbar=pbar))"
   ]
  },
  {
   "cell_type": "code",
   "execution_count": 68,
   "metadata": {},
   "outputs": [
    {
     "data": {
      "application/vnd.jupyter.widget-view+json": {
       "model_id": "78d1f39b4b2b4720b62603fbf4e7716f",
       "version_major": 2,
       "version_minor": 0
      },
      "text/plain": [
       "HBox(children=(HTML(value='epochs'), FloatProgress(value=1.0, bar_style='info', layout=Layout(width='20px'), m…"
      ]
     },
     "metadata": {},
     "output_type": "display_data"
    },
    {
     "data": {
      "application/vnd.jupyter.widget-view+json": {
       "model_id": "50a1b0e7e75144f3b963fb6d7eff282b",
       "version_major": 2,
       "version_minor": 0
      },
      "text/plain": [
       "HBox(children=(HTML(value='batches'), FloatProgress(value=1.0, bar_style='info', layout=Layout(width='20px'), …"
      ]
     },
     "metadata": {},
     "output_type": "display_data"
    },
    {
     "name": "stdout",
     "output_type": "stream",
     "text": [
      "[ 1/25] train_accuracy: 0.5218, test_accuracy: 0.6364, loss: 1.3386\n",
      "[ 2/25] train_accuracy: 0.6698, test_accuracy: 0.6957, loss: 0.9380\n",
      "[ 3/25] train_accuracy: 0.7270, test_accuracy: 0.6934, loss: 0.7751\n",
      "[ 4/25] train_accuracy: 0.7678, test_accuracy: 0.7297, loss: 0.6613\n",
      "[ 5/25] train_accuracy: 0.8026, test_accuracy: 0.7308, loss: 0.5663\n",
      "[ 6/25] train_accuracy: 0.8276, test_accuracy: 0.7564, loss: 0.4924\n",
      "[ 7/25] train_accuracy: 0.8520, test_accuracy: 0.7639, loss: 0.4253\n",
      "[ 8/25] train_accuracy: 0.8731, test_accuracy: 0.7640, loss: 0.3608\n",
      "[ 9/25] train_accuracy: 0.8913, test_accuracy: 0.7640, loss: 0.3079\n",
      "[10/25] train_accuracy: 0.9081, test_accuracy: 0.7659, loss: 0.2592\n",
      "[11/25] train_accuracy: 0.9218, test_accuracy: 0.7664, loss: 0.2166\n",
      "[12/25] train_accuracy: 0.9355, test_accuracy: 0.7638, loss: 0.1830\n",
      "[13/25] train_accuracy: 0.9426, test_accuracy: 0.7654, loss: 0.1588\n",
      "[14/25] train_accuracy: 0.9512, test_accuracy: 0.7771, loss: 0.1404\n",
      "[15/25] train_accuracy: 0.9563, test_accuracy: 0.7706, loss: 0.1216\n",
      "[16/25] train_accuracy: 0.9619, test_accuracy: 0.7678, loss: 0.1068\n",
      "[17/25] train_accuracy: 0.9652, test_accuracy: 0.7637, loss: 0.0959\n",
      "[18/25] train_accuracy: 0.9682, test_accuracy: 0.7723, loss: 0.0894\n",
      "[19/25] train_accuracy: 0.9699, test_accuracy: 0.7607, loss: 0.0828\n",
      "[20/25] train_accuracy: 0.9735, test_accuracy: 0.7654, loss: 0.0741\n",
      "[21/25] train_accuracy: 0.9735, test_accuracy: 0.7683, loss: 0.0736\n",
      "[22/25] train_accuracy: 0.9764, test_accuracy: 0.7530, loss: 0.0666\n",
      "[23/25] train_accuracy: 0.9778, test_accuracy: 0.7699, loss: 0.0630\n",
      "[24/25] train_accuracy: 0.9796, test_accuracy: 0.7585, loss: 0.0574\n",
      "[25/25] train_accuracy: 0.9791, test_accuracy: 0.7614, loss: 0.0570\n",
      "\n",
      "\n"
     ]
    }
   ],
   "source": [
    "model = ResNet(in_channels=3, num_classes=10, num_resblocks=[32,64,128])\n",
    "optimizer = torch.optim.Adam(model.parameters(), lr=0.0005, betas=(0.9, 0.95), weight_decay=0)\n",
    "\n",
    "with TrainProgressBar() as pbar:\n",
    "    results[\"resnet\"] = Results(*train(model, optimizer, train_dataloader, test_dataloader,\n",
    "                                            loss_fn=F.cross_entropy, reg_fn=None, num_epochs=25, pbar=pbar))"
   ]
  },
  {
   "cell_type": "code",
   "execution_count": 70,
   "metadata": {},
   "outputs": [
    {
     "data": {
      "image/png": "[encoded data removed]",
      "text/plain": [
       "<Figure size 1008x504 with 2 Axes>"
      ]
     },
     "metadata": {
      "needs_background": "light"
     },
     "output_type": "display_data"
    }
   ],
   "source": [
    "names = ['cnn', 'resnet']\n",
    "plot_results(names, [results[n] for n in names], title=\"comparison of baseline and cnn models\")"
   ]
  }
 ],
 "metadata": {
  "kernelspec": {
   "display_name": "Python 3",
   "language": "python",
   "name": "python3"
  },
  "language_info": {
   "codemirror_mode": {
    "name": "ipython",
    "version": 3
   },
   "file_extension": ".py",
   "mimetype": "text/x-python",
   "name": "python",
   "nbconvert_exporter": "python",
   "pygments_lexer": "ipython3",
   "version": "3.8.5"
  }
 },
 "nbformat": 4,
 "nbformat_minor": 4
}
